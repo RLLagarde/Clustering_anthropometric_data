{
 "cells": [
  {
   "cell_type": "markdown",
   "metadata": {},
   "source": [
    "# K-Moyenne\n"
   ]
  },
  {
   "cell_type": "code",
   "execution_count": 118,
   "metadata": {},
   "outputs": [],
   "source": [
    "import numpy as np\n",
    "\n",
    "def kmeans(donnees, k, iteration):\n",
    "    '''\n",
    "    La valeur donnees est une matrice N*n\n",
    "    Où N est le nombre de données\n",
    "    n est la dimension de l'espace des données (le nombre de caractéristiques).\n",
    "    On veut que chaque ligne de la matrice soit standardisée\n",
    "    On entre aussi le nombre d'ittérations et le nombre de cluster (k) dont on a besoin\n",
    "    L'algorithme renvoie une liste (L) de taille N qui à chaque point associe son cluster.\n",
    "    '''\n",
    "    \n",
    "\n",
    "    N,n = np.shape(donnees)\n",
    "    \n",
    "    #initialisation des barycentres (c'est une matrice avec la même convention)\n",
    "    B = 2*np.random.rand(k,n)-1\n",
    "\n",
    "\n",
    "    \n",
    "    #Liste d'attribution, L[i-ème point] = indice du barycentre associé\n",
    "    L = np.empty(N)\n",
    "\n",
    "    for count in range(iteration):\n",
    "        def k_distances(point):\n",
    "            '''\n",
    "            Prend en argument un point et la matrice des barycentres\n",
    "            Renvois un vecteur de taille k qui donne la distance (au carré) entre le point et chacun des barycentres.\n",
    "            '''\n",
    "            return (np.square(np.tile(point, (k,1)) - B)).sum(axis=1)\n",
    "        \n",
    "        #Créons une matrice N*k qui va répertorier les distances à chaque barycentre pour chaque point\n",
    "        all_distances = np.apply_along_axis(k_distances, axis=1, arr=donnees)\n",
    "        #La liste L d'attribution à chaque point, de l'indice du plus proche est tout simplement : \n",
    "        L = np.argmin(all_distances, axis=1)\n",
    "        #Pour savoir si nos clusters sont proches des points, on va stocker la distance entre les points et leur cluster.\n",
    "        D = np.min(all_distances, axis=1)\n",
    "        # Changer les barycentres\n",
    "        for j in range(k):\n",
    "            if (L == j).sum() > 0:\n",
    "                B[j] = np.mean(donnees[L == j], axis=0)\n",
    "\n",
    "        \n",
    "    return L, np.mean(D)  \n",
    "\n",
    "                \n",
    "\n",
    "\n"
   ]
  },
  {
   "cell_type": "code",
   "execution_count": 32,
   "metadata": {},
   "outputs": [
    {
     "data": {
      "text/plain": [
       "array([[5, 3],\n",
       "       [2, 0]])"
      ]
     },
     "execution_count": 32,
     "metadata": {},
     "output_type": "execute_result"
    }
   ],
   "source": [
    "point = np.array([[1,1,1],[2,2,2]])\n",
    "k=2\n",
    "\n",
    "B = np.array([[1,2,3],[2,2,2]])\n",
    "\n",
    "np.apply_along_axis(k_distances, axis=1, arr=point)"
   ]
  },
  {
   "cell_type": "code",
   "execution_count": 123,
   "metadata": {},
   "outputs": [
    {
     "data": {
      "text/plain": [
       "(array([0, 2, 2, 0, 0, 1, 1, 1, 2, 1], dtype=int64), 1.8579051049866664)"
      ]
     },
     "execution_count": 123,
     "metadata": {},
     "output_type": "execute_result"
    }
   ],
   "source": [
    "#Test\n",
    "\n",
    "donnees = np.array([\n",
    "    [5.10492,-3.50822],\n",
    "    [-3.54,1.5],\n",
    "    [-2.08,1.66],\n",
    "    [4.34,-2.9],\n",
    "    [3.7,-1.52],\n",
    "    [-8.12,-4.34],\n",
    "    [-6.2,-2.88],\n",
    "    [-3.18,-3.86],\n",
    "    [-2.12,1.18],\n",
    "    [-5.02,-3.62],\n",
    "])\n",
    "kmeans(donnees, 3, 50)\n",
    "\n",
    "#Le test est concluant (voir représentation des points dans la capture)"
   ]
  }
 ],
 "metadata": {
  "kernelspec": {
   "display_name": "Python 3 (ipykernel)",
   "language": "python",
   "name": "python3"
  },
  "language_info": {
   "codemirror_mode": {
    "name": "ipython",
    "version": 3
   },
   "file_extension": ".py",
   "mimetype": "text/x-python",
   "name": "python",
   "nbconvert_exporter": "python",
   "pygments_lexer": "ipython3",
   "version": "3.11.5"
  }
 },
 "nbformat": 4,
 "nbformat_minor": 4
}
